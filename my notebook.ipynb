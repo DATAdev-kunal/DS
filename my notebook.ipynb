{
    "cells": [
        {
            "cell_type": "code",
            "execution_count": 1,
            "id": "dfd72b56-0f9d-4c62-8763-8f841e4f59fa",
            "metadata": {
                "scrolled": true
            },
            "outputs": [
                {
                    "data": {
                        "text/plain": "2"
                    },
                    "execution_count": 1,
                    "metadata": {},
                    "output_type": "execute_result"
                }
            ],
            "source": "1+1"
        },
        {
            "cell_type": "code",
            "execution_count": 2,
            "id": "e1a78695-5d71-48ea-a7c1-abf8a91a3382",
            "metadata": {},
            "outputs": [
                {
                    "name": "stderr",
                    "output_type": "stream",
                    "text": "/tmp/wsuser/ipykernel_164/4015089163.py:24: DtypeWarning: Columns (8,10,11,12,13,14,15,16,17,20,22,23,25,40,63,64,67,68,69,84,85,86,87) have mixed types. Specify dtype option on import or set low_memory=False.\n  df_data_1 = pd.read_csv(body)\n"
                },
                {
                    "name": "stdout",
                    "output_type": "stream",
                    "text": "Hello World\n"
                }
            ],
            "source": "# The code was removed by Watson Studio for sharing."
        },
        {
            "cell_type": "markdown",
            "id": "6dc37259-bf87-4423-ac9c-55245639cf3b",
            "metadata": {
                "tags": []
            },
            "source": "## Creating first notebook"
        },
        {
            "cell_type": "code",
            "execution_count": 8,
            "id": "443c2447-af72-43a1-b0e5-bb02889ede3e",
            "metadata": {},
            "outputs": [
                {
                    "name": "stdout",
                    "output_type": "stream",
                    "text": "168\n"
                }
            ],
            "source": "print(3*56)"
        },
        {
            "cell_type": "code",
            "execution_count": 7,
            "id": "f0d4c897-4f7d-4ad7-b954-72852dbcaa98",
            "metadata": {},
            "outputs": [
                {
                    "name": "stdout",
                    "output_type": "stream",
                    "text": "14\n"
                }
            ],
            "source": "a=1\nb=3\nc=6\nprint(a+b+c+4)"
        },
        {
            "cell_type": "markdown",
            "id": "95f6c89a-1909-4fb1-9ee5-fd3c127a91ad",
            "metadata": {},
            "source": "my note"
        },
        {
            "cell_type": "code",
            "execution_count": null,
            "id": "b40eb173-7e4d-4bfc-a222-58517761d207",
            "metadata": {},
            "outputs": [],
            "source": ""
        }
    ],
    "metadata": {
        "kernelspec": {
            "display_name": "Python 3.10",
            "language": "python",
            "name": "python3"
        },
        "language_info": {
            "codemirror_mode": {
                "name": "ipython",
                "version": 3
            },
            "file_extension": ".py",
            "mimetype": "text/x-python",
            "name": "python",
            "nbconvert_exporter": "python",
            "pygments_lexer": "ipython3",
            "version": "3.10.6"
        }
    },
    "nbformat": 4,
    "nbformat_minor": 5
}